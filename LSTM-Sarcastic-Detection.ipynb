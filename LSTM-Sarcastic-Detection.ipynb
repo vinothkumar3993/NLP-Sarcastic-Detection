{
 "cells": [
  {
   "cell_type": "markdown",
   "metadata": {},
   "source": [
    "## Importing Libraries"
   ]
  },
  {
   "cell_type": "code",
   "execution_count": 1,
   "metadata": {},
   "outputs": [
    {
     "name": "stderr",
     "output_type": "stream",
     "text": [
      "Using TensorFlow backend.\n"
     ]
    }
   ],
   "source": [
    "import numpy as np\n",
    "import pandas as pd\n",
    "import matplotlib.pyplot as plt\n",
    "import tensorflow as tf\n",
    "import keras"
   ]
  },
  {
   "cell_type": "markdown",
   "metadata": {},
   "source": [
    "### Preventing Any Unnecessary Verbose From Popping Up"
   ]
  },
  {
   "cell_type": "code",
   "execution_count": 3,
   "metadata": {},
   "outputs": [],
   "source": [
    "import os\n",
    "os.environ['TF_CPP_MIN_LOG_LEVEL'] = '3'"
   ]
  },
  {
   "cell_type": "markdown",
   "metadata": {},
   "source": [
    "### Loading Dataset From the Json File Stored & Visualising "
   ]
  },
  {
   "cell_type": "code",
   "execution_count": 8,
   "metadata": {},
   "outputs": [
    {
     "data": {
      "text/html": [
       "<div>\n",
       "<style scoped>\n",
       "    .dataframe tbody tr th:only-of-type {\n",
       "        vertical-align: middle;\n",
       "    }\n",
       "\n",
       "    .dataframe tbody tr th {\n",
       "        vertical-align: top;\n",
       "    }\n",
       "\n",
       "    .dataframe thead th {\n",
       "        text-align: right;\n",
       "    }\n",
       "</style>\n",
       "<table border=\"1\" class=\"dataframe\">\n",
       "  <thead>\n",
       "    <tr style=\"text-align: right;\">\n",
       "      <th></th>\n",
       "      <th>article_link</th>\n",
       "      <th>headline</th>\n",
       "      <th>is_sarcastic</th>\n",
       "    </tr>\n",
       "  </thead>\n",
       "  <tbody>\n",
       "    <tr>\n",
       "      <th>0</th>\n",
       "      <td>https://www.huffingtonpost.com/entry/versace-b...</td>\n",
       "      <td>former versace store clerk sues over secret 'b...</td>\n",
       "      <td>0</td>\n",
       "    </tr>\n",
       "    <tr>\n",
       "      <th>1</th>\n",
       "      <td>https://www.huffingtonpost.com/entry/roseanne-...</td>\n",
       "      <td>the 'roseanne' revival catches up to our thorn...</td>\n",
       "      <td>0</td>\n",
       "    </tr>\n",
       "    <tr>\n",
       "      <th>2</th>\n",
       "      <td>https://local.theonion.com/mom-starting-to-fea...</td>\n",
       "      <td>mom starting to fear son's web series closest ...</td>\n",
       "      <td>1</td>\n",
       "    </tr>\n",
       "    <tr>\n",
       "      <th>3</th>\n",
       "      <td>https://politics.theonion.com/boehner-just-wan...</td>\n",
       "      <td>boehner just wants wife to listen, not come up...</td>\n",
       "      <td>1</td>\n",
       "    </tr>\n",
       "    <tr>\n",
       "      <th>4</th>\n",
       "      <td>https://www.huffingtonpost.com/entry/jk-rowlin...</td>\n",
       "      <td>j.k. rowling wishes snape happy birthday in th...</td>\n",
       "      <td>0</td>\n",
       "    </tr>\n",
       "  </tbody>\n",
       "</table>\n",
       "</div>"
      ],
      "text/plain": [
       "                                        article_link  \\\n",
       "0  https://www.huffingtonpost.com/entry/versace-b...   \n",
       "1  https://www.huffingtonpost.com/entry/roseanne-...   \n",
       "2  https://local.theonion.com/mom-starting-to-fea...   \n",
       "3  https://politics.theonion.com/boehner-just-wan...   \n",
       "4  https://www.huffingtonpost.com/entry/jk-rowlin...   \n",
       "\n",
       "                                            headline  is_sarcastic  \n",
       "0  former versace store clerk sues over secret 'b...             0  \n",
       "1  the 'roseanne' revival catches up to our thorn...             0  \n",
       "2  mom starting to fear son's web series closest ...             1  \n",
       "3  boehner just wants wife to listen, not come up...             1  \n",
       "4  j.k. rowling wishes snape happy birthday in th...             0  "
      ]
     },
     "execution_count": 8,
     "metadata": {},
     "output_type": "execute_result"
    }
   ],
   "source": [
    "import os\n",
    "main_directory=\"D:/AI-Project/NLP/Project - LSTM/news-headlines-dataset-for-sarcasm-detection/\"\n",
    "data_files=os.listdir(main_directory)\n",
    "data_directory=main_directory + \"\\\\\" + data_files[0]\n",
    "data=pd.read_json(data_directory,lines=True)\n",
    "data.head()"
   ]
  },
  {
   "cell_type": "markdown",
   "metadata": {},
   "source": [
    "Now, this dataset needs preprocessing before feeding the suitable data to an LSTM. <br>\n",
    "1. Getting the oraganisation of the artice and save only that.\n",
    "2. Remove all special characters from the sentences, to be left with plain text (wil be done automatically using tokenizer)."
   ]
  },
  {
   "cell_type": "markdown",
   "metadata": {},
   "source": [
    "### Removing the Link and putting the Organisation in its Place"
   ]
  },
  {
   "cell_type": "code",
   "execution_count": 16,
   "metadata": {},
   "outputs": [
    {
     "data": {
      "text/html": [
       "<div>\n",
       "<style scoped>\n",
       "    .dataframe tbody tr th:only-of-type {\n",
       "        vertical-align: middle;\n",
       "    }\n",
       "\n",
       "    .dataframe tbody tr th {\n",
       "        vertical-align: top;\n",
       "    }\n",
       "\n",
       "    .dataframe thead th {\n",
       "        text-align: right;\n",
       "    }\n",
       "</style>\n",
       "<table border=\"1\" class=\"dataframe\">\n",
       "  <thead>\n",
       "    <tr style=\"text-align: right;\">\n",
       "      <th></th>\n",
       "      <th>headline</th>\n",
       "      <th>is_sarcastic</th>\n",
       "      <th>organization</th>\n",
       "    </tr>\n",
       "  </thead>\n",
       "  <tbody>\n",
       "    <tr>\n",
       "      <th>0</th>\n",
       "      <td>former versace store clerk sues over secret 'b...</td>\n",
       "      <td>0</td>\n",
       "      <td>huffingtonpost</td>\n",
       "    </tr>\n",
       "    <tr>\n",
       "      <th>1</th>\n",
       "      <td>the 'roseanne' revival catches up to our thorn...</td>\n",
       "      <td>0</td>\n",
       "      <td>huffingtonpost</td>\n",
       "    </tr>\n",
       "    <tr>\n",
       "      <th>2</th>\n",
       "      <td>mom starting to fear son's web series closest ...</td>\n",
       "      <td>1</td>\n",
       "      <td>theonion</td>\n",
       "    </tr>\n",
       "    <tr>\n",
       "      <th>3</th>\n",
       "      <td>boehner just wants wife to listen, not come up...</td>\n",
       "      <td>1</td>\n",
       "      <td>theonion</td>\n",
       "    </tr>\n",
       "    <tr>\n",
       "      <th>4</th>\n",
       "      <td>j.k. rowling wishes snape happy birthday in th...</td>\n",
       "      <td>0</td>\n",
       "      <td>huffingtonpost</td>\n",
       "    </tr>\n",
       "  </tbody>\n",
       "</table>\n",
       "</div>"
      ],
      "text/plain": [
       "                                            headline  is_sarcastic  \\\n",
       "0  former versace store clerk sues over secret 'b...             0   \n",
       "1  the 'roseanne' revival catches up to our thorn...             0   \n",
       "2  mom starting to fear son's web series closest ...             1   \n",
       "3  boehner just wants wife to listen, not come up...             1   \n",
       "4  j.k. rowling wishes snape happy birthday in th...             0   \n",
       "\n",
       "     organization  \n",
       "0  huffingtonpost  \n",
       "1  huffingtonpost  \n",
       "2        theonion  \n",
       "3        theonion  \n",
       "4  huffingtonpost  "
      ]
     },
     "execution_count": 16,
     "metadata": {},
     "output_type": "execute_result"
    }
   ],
   "source": [
    "import re\n",
    "data[\"organization\"]=data[\"article_link\"].apply(lambda x: re.findall(r\"\\w+\",x)[2])\n",
    "data=data.drop([\"article_link\"],axis=1)\n",
    "data.head()"
   ]
  },
  {
   "cell_type": "markdown",
   "metadata": {},
   "source": [
    "### Now, Before any Oher Preprocessing is Done, Let it be Verified if Whether or Not the Data is Balanced\n",
    "### Checking the Nature of Data"
   ]
  },
  {
   "cell_type": "code",
   "execution_count": 17,
   "metadata": {},
   "outputs": [
    {
     "name": "stdout",
     "output_type": "stream",
     "text": [
      "<class 'pandas.core.frame.DataFrame'>\n",
      "RangeIndex: 26709 entries, 0 to 26708\n",
      "Data columns (total 3 columns):\n",
      " #   Column        Non-Null Count  Dtype \n",
      "---  ------        --------------  ----- \n",
      " 0   headline      26709 non-null  object\n",
      " 1   is_sarcastic  26709 non-null  int64 \n",
      " 2   organization  26709 non-null  object\n",
      "dtypes: int64(1), object(2)\n",
      "memory usage: 626.1+ KB\n"
     ]
    }
   ],
   "source": [
    "data.info()"
   ]
  },
  {
   "cell_type": "markdown",
   "metadata": {},
   "source": [
    "The data is complete and there are no missing values"
   ]
  },
  {
   "cell_type": "markdown",
   "metadata": {},
   "source": [
    "### Understanding the Data, To See if it is Skewed or Not"
   ]
  },
  {
   "cell_type": "code",
   "execution_count": 18,
   "metadata": {},
   "outputs": [
    {
     "data": {
      "text/html": [
       "<div>\n",
       "<style scoped>\n",
       "    .dataframe tbody tr th:only-of-type {\n",
       "        vertical-align: middle;\n",
       "    }\n",
       "\n",
       "    .dataframe tbody tr th {\n",
       "        vertical-align: top;\n",
       "    }\n",
       "\n",
       "    .dataframe thead th {\n",
       "        text-align: right;\n",
       "    }\n",
       "</style>\n",
       "<table border=\"1\" class=\"dataframe\">\n",
       "  <thead>\n",
       "    <tr style=\"text-align: right;\">\n",
       "      <th></th>\n",
       "      <th>is_sarcastic</th>\n",
       "    </tr>\n",
       "  </thead>\n",
       "  <tbody>\n",
       "    <tr>\n",
       "      <th>count</th>\n",
       "      <td>26709.000000</td>\n",
       "    </tr>\n",
       "    <tr>\n",
       "      <th>mean</th>\n",
       "      <td>0.438953</td>\n",
       "    </tr>\n",
       "    <tr>\n",
       "      <th>std</th>\n",
       "      <td>0.496269</td>\n",
       "    </tr>\n",
       "    <tr>\n",
       "      <th>min</th>\n",
       "      <td>0.000000</td>\n",
       "    </tr>\n",
       "    <tr>\n",
       "      <th>25%</th>\n",
       "      <td>0.000000</td>\n",
       "    </tr>\n",
       "    <tr>\n",
       "      <th>50%</th>\n",
       "      <td>0.000000</td>\n",
       "    </tr>\n",
       "    <tr>\n",
       "      <th>75%</th>\n",
       "      <td>1.000000</td>\n",
       "    </tr>\n",
       "    <tr>\n",
       "      <th>max</th>\n",
       "      <td>1.000000</td>\n",
       "    </tr>\n",
       "  </tbody>\n",
       "</table>\n",
       "</div>"
      ],
      "text/plain": [
       "       is_sarcastic\n",
       "count  26709.000000\n",
       "mean       0.438953\n",
       "std        0.496269\n",
       "min        0.000000\n",
       "25%        0.000000\n",
       "50%        0.000000\n",
       "75%        1.000000\n",
       "max        1.000000"
      ]
     },
     "execution_count": 18,
     "metadata": {},
     "output_type": "execute_result"
    }
   ],
   "source": [
    "data.describe()"
   ]
  },
  {
   "cell_type": "markdown",
   "metadata": {},
   "source": [
    "Since the column \"is_sarcastic\" takes only binary values, and the mean is 0.4389, or approximately 43.9%, the data is not heavily skewed."
   ]
  },
  {
   "cell_type": "markdown",
   "metadata": {},
   "source": [
    "### Above Statements can be Visualised "
   ]
  },
  {
   "cell_type": "code",
   "execution_count": 23,
   "metadata": {},
   "outputs": [
    {
     "data": {
      "image/png": "[encoded data removed]",
      "text/plain": [
       "<Figure size 432x288 with 1 Axes>"
      ]
     },
     "metadata": {
      "needs_background": "light"
     },
     "output_type": "display_data"
    }
   ],
   "source": [
    "sarcastic=0\n",
    "for i in range(len(data[\"is_sarcastic\"])):\n",
    "    if data[\"is_sarcastic\"].iloc[i]==1:\n",
    "        sarcastic+=1\n",
    "normal=len(data[\"is_sarcastic\"])-sarcastic\n",
    "label_values={\"Sarcastic Headlines\" : sarcastic, \"Non-Sarcastic Headlines\" : normal}\n",
    "plt.bar(label_values.keys(),label_values.values(),align=\"center\")\n",
    "plt.title(\"Number of Sarcastic vs Non-Sarcastic Headlines\")\n",
    "plt.ylabel(\"Number of Headlines\")\n",
    "plt.show()"
   ]
  },
  {
   "cell_type": "markdown",
   "metadata": {},
   "source": [
    "### To Ignore the Effect of Organization on Whether a Headline is Sarcastic"
   ]
  },
  {
   "cell_type": "code",
   "execution_count": 29,
   "metadata": {},
   "outputs": [
    {
     "data": {
      "image/png": "[encoded data removed]",
      "text/plain": [
       "<Figure size 432x288 with 1 Axes>"
      ]
     },
     "metadata": {
      "needs_background": "light"
     },
     "output_type": "display_data"
    }
   ],
   "source": [
    "org_labels={\"huffingtonpost\" : 0, \"theonion\" : 0}\n",
    "for i in range(len(data[\"organization\"])):\n",
    "    if data[\"is_sarcastic\"].iloc[i]==1:\n",
    "        org_labels[data[\"organization\"].iloc[i]]+=1\n",
    "plt.bar(org_labels.keys(),org_labels.values(),align=\"center\")\n",
    "plt.title(\"Comparing Number of Sarcastic Headlines per Organization\")\n",
    "plt.ylabel(\"Number of Headlines\")\n",
    "plt.show()"
   ]
  },
  {
   "cell_type": "markdown",
   "metadata": {},
   "source": [
    "This makes a very intersting observation, that ALL the sarcastic headlines come from \"theonion\" none from \"huffingtonpost\". This renders the segregation useless, as they basically represent nothing but the labels themselves."
   ]
  },
  {
   "cell_type": "markdown",
   "metadata": {},
   "source": [
    "### Dropping the \"Organization\" Column"
   ]
  },
  {
   "cell_type": "code",
   "execution_count": 41,
   "metadata": {},
   "outputs": [
    {
     "data": {
      "text/html": [
       "<div>\n",
       "<style scoped>\n",
       "    .dataframe tbody tr th:only-of-type {\n",
       "        vertical-align: middle;\n",
       "    }\n",
       "\n",
       "    .dataframe tbody tr th {\n",
       "        vertical-align: top;\n",
       "    }\n",
       "\n",
       "    .dataframe thead th {\n",
       "        text-align: right;\n",
       "    }\n",
       "</style>\n",
       "<table border=\"1\" class=\"dataframe\">\n",
       "  <thead>\n",
       "    <tr style=\"text-align: right;\">\n",
       "      <th></th>\n",
       "      <th>headline</th>\n",
       "      <th>is_sarcastic</th>\n",
       "    </tr>\n",
       "  </thead>\n",
       "  <tbody>\n",
       "    <tr>\n",
       "      <th>0</th>\n",
       "      <td>former versace store clerk sues over secret 'b...</td>\n",
       "      <td>0</td>\n",
       "    </tr>\n",
       "    <tr>\n",
       "      <th>1</th>\n",
       "      <td>the 'roseanne' revival catches up to our thorn...</td>\n",
       "      <td>0</td>\n",
       "    </tr>\n",
       "    <tr>\n",
       "      <th>2</th>\n",
       "      <td>mom starting to fear son's web series closest ...</td>\n",
       "      <td>1</td>\n",
       "    </tr>\n",
       "    <tr>\n",
       "      <th>3</th>\n",
       "      <td>boehner just wants wife to listen, not come up...</td>\n",
       "      <td>1</td>\n",
       "    </tr>\n",
       "    <tr>\n",
       "      <th>4</th>\n",
       "      <td>j.k. rowling wishes snape happy birthday in th...</td>\n",
       "      <td>0</td>\n",
       "    </tr>\n",
       "  </tbody>\n",
       "</table>\n",
       "</div>"
      ],
      "text/plain": [
       "                                            headline  is_sarcastic\n",
       "0  former versace store clerk sues over secret 'b...             0\n",
       "1  the 'roseanne' revival catches up to our thorn...             0\n",
       "2  mom starting to fear son's web series closest ...             1\n",
       "3  boehner just wants wife to listen, not come up...             1\n",
       "4  j.k. rowling wishes snape happy birthday in th...             0"
      ]
     },
     "execution_count": 41,
     "metadata": {},
     "output_type": "execute_result"
    }
   ],
   "source": [
    "data=data.drop([\"organization\"],axis=1)\n",
    "data.head()"
   ]
  },
  {
   "cell_type": "code",
   "execution_count": 43,
   "metadata": {},
   "outputs": [
    {
     "name": "stdout",
     "output_type": "stream",
     "text": [
      "The number of unique words in the text corpus dictionary : 29656\n",
      "The shape of the trainable data : (26709, 300)\n",
      "The shape of the labels for the data is : (26709, 2)\n"
     ]
    }
   ],
   "source": [
    "from keras.preprocessing.text import Tokenizer\n",
    "from keras.preprocessing.sequence import pad_sequences\n",
    "from keras.utils import to_categorical\n",
    "\n",
    "#Note that the Training Data/Test Data Split will be Done Later\n",
    "\n",
    "num_words=20000\n",
    "max_sentence_len=300\n",
    "tokenizer=Tokenizer(num_words=num_words)\n",
    "tokenizer.fit_on_texts(list(data[\"headline\"]))\n",
    "X=tokenizer.texts_to_sequences(list(data[\"headline\"]))\n",
    "X=pad_sequences(X,maxlen=max_sentence_len)\n",
    "Y=to_categorical(data[\"is_sarcastic\"].values)\n",
    "print(\"The number of unique words in the text corpus dictionary : {}\".format(len(tokenizer.word_index)))\n",
    "print(\"The shape of the trainable data : {}\".format(X.shape))\n",
    "print(\"The shape of the labels for the data is : {}\".format(Y.shape))"
   ]
  },
  {
   "cell_type": "markdown",
   "metadata": {},
   "source": [
    "It is observed that the number of unique wordsin the text dictionary made using tokenizer is 29,656, and the maximum allowed as per this cell is 20000. This basically means that the other 9,656 words are discarded, due to them being less frequent."
   ]
  },
  {
   "cell_type": "markdown",
   "metadata": {},
   "source": [
    "### Getting the Pre Trained GloVe Embeddings into the Embedding Matrix From the Link Used in this Cell"
   ]
  },
  {
   "cell_type": "code",
   "execution_count": 53,
   "metadata": {},
   "outputs": [
    {
     "name": "stdout",
     "output_type": "stream",
     "text": [
      "The dimension/length of the embedding vector for each word is : 300\n"
     ]
    }
   ],
   "source": [
    "embedding_words={}\n",
    "folder_directory=\"D:/AI-Project/NLP/Project - LSTM/news-headlines-dataset-for-sarcasm-detection/\"\n",
    "file=open(folder_directory + \"\\\\\" +  \"news-headlines-dataset-for-sarcasm-detection.json\",'r', encoding=\"utf-8\")\n",
    "for line in file:\n",
    "    #There are a number of lines containing embeddings for each word\n",
    "    info=line.split(\" \")\n",
    "    #The first value in each line of the file is a unique word\n",
    "    word=info[0]\n",
    "    #The rest are embedding values of a specific dimension (to be displayed)\n",
    "    embedding_values=np.array(info[1:],dtype=\"float32\")\n",
    "    #Storing these values\n",
    "    embedding_words[word]=embedding_values\n",
    "file.close()\n",
    "print(\"The dimension/length of the embedding vector for each word is : {}\"\n",
    "     .format(len(embedding_words[\"go\"])))"
   ]
  },
  {
   "cell_type": "markdown",
   "metadata": {},
   "source": [
    "Now, from these \"embedding_words\", the embedding matrix is obtained by running the cell below:"
   ]
  },
  {
   "cell_type": "code",
   "execution_count": 54,
   "metadata": {},
   "outputs": [],
   "source": [
    "from keras.layers import Embedding\n",
    "from keras.initializers import Constant\n",
    "\n",
    "#The length/dimension of the embedding vector was found to be 300 after running the previous cell\n",
    "embedding_dim=len(embedding_words[\"go\"]) #or simply 300\n",
    "#Initialising the embedding matrix\n",
    "embedding_matrix=np.zeros((num_words,embedding_dim))\n",
    "#Forming the embedding matrix by using the embedding vectors for only those words in the text corpus of the data  \n",
    "for word,i in tokenizer.word_index.items():\n",
    "    if i>num_words:\n",
    "        continue\n",
    "    embedding_vector=embedding_words.get(word)\n",
    "    if embedding_vector is not None:\n",
    "        embedding_matrix[i]=embedding_vector"
   ]
  },
  {
   "cell_type": "markdown",
   "metadata": {},
   "source": [
    "### Creating the Embedding Layer Further with the Help of Keras"
   ]
  },
  {
   "cell_type": "code",
   "execution_count": 56,
   "metadata": {},
   "outputs": [
    {
     "name": "stdout",
     "output_type": "stream",
     "text": [
      "The shape of the embedding matrix is (20000, 300)\n"
     ]
    }
   ],
   "source": [
    "#These embeddings are made non-trainable as they are pre trained to highly optimized values\n",
    "embeddings=Embedding(num_words,embedding_dim,embeddings_initializer=Constant(embedding_matrix),\n",
    "                    input_length=max_sentence_len,trainable=False)\n",
    "#Getting the shape of the embedding matrix (should be (num_words,embedding_dim)=(20000,300))\n",
    "print(\"The shape of the embedding matrix is {}\".format(embedding_matrix.shape))"
   ]
  },
  {
   "cell_type": "markdown",
   "metadata": {},
   "source": [
    "### Building the Model"
   ]
  },
  {
   "cell_type": "code",
   "execution_count": 70,
   "metadata": {},
   "outputs": [],
   "source": [
    "from keras.models import Sequential\n",
    "from keras.layers import Dense, Flatten, Dropout, LSTM, Bidirectional, Conv1D, MaxPooling1D \n",
    "\n",
    "model=Sequential()\n",
    "model.add(embeddings)\n",
    "model.add(Conv1D(32,3,activation=\"relu\"))\n",
    "model.add(MaxPooling1D(pool_size=2))\n",
    "model.add(Dropout(0.5))\n",
    "model.add(Bidirectional(LSTM(128,return_sequences=True)))\n",
    "model.add(Flatten())\n",
    "model.add(Dense(30,activation=\"relu\"))\n",
    "model.add(Dropout(0.5))\n",
    "model.add(Dense(2,activation=\"sigmoid\"))\n",
    "model.compile(loss=\"binary_crossentropy\",optimizer=\"adam\",metrics=[\"accuracy\"])"
   ]
  },
  {
   "cell_type": "markdown",
   "metadata": {},
   "source": [
    "### Splittting the Data into Training and Testing Sets Before Fitting the Model"
   ]
  },
  {
   "cell_type": "code",
   "execution_count": 63,
   "metadata": {},
   "outputs": [],
   "source": [
    "#Using a 80% - 20% split for the data\n",
    "from sklearn.model_selection import train_test_split\n",
    "x_train,x_test,y_train,y_test=train_test_split(X,Y,test_size=0.2)"
   ]
  },
  {
   "cell_type": "code",
   "execution_count": 71,
   "metadata": {},
   "outputs": [
    {
     "name": "stdout",
     "output_type": "stream",
     "text": [
      "Train on 21367 samples, validate on 5342 samples\n",
      "Epoch 1/10\n",
      "21367/21367 [==============================] - 334s 16ms/step - loss: 0.5479 - accuracy: 0.7205 - val_loss: 0.4088 - val_accuracy: 0.8113\n",
      "Epoch 2/10\n",
      "21367/21367 [==============================] - 338s 16ms/step - loss: 0.4373 - accuracy: 0.8034 - val_loss: 0.3799 - val_accuracy: 0.8340\n",
      "Epoch 3/10\n",
      "21367/21367 [==============================] - 349s 16ms/step - loss: 0.3949 - accuracy: 0.8252 - val_loss: 0.3549 - val_accuracy: 0.8430\n",
      "Epoch 4/10\n",
      "21367/21367 [==============================] - 352s 16ms/step - loss: 0.3674 - accuracy: 0.8409 - val_loss: 0.3622 - val_accuracy: 0.8458\n",
      "Epoch 5/10\n",
      "21367/21367 [==============================] - 356s 17ms/step - loss: 0.3483 - accuracy: 0.8509 - val_loss: 0.3351 - val_accuracy: 0.8598\n",
      "Epoch 6/10\n",
      "21367/21367 [==============================] - 358s 17ms/step - loss: 0.3282 - accuracy: 0.8594 - val_loss: 0.3378 - val_accuracy: 0.8607\n",
      "Epoch 7/10\n",
      "21367/21367 [==============================] - 355s 17ms/step - loss: 0.3165 - accuracy: 0.8643 - val_loss: 0.3339 - val_accuracy: 0.8564\n",
      "Epoch 8/10\n",
      "21367/21367 [==============================] - 356s 17ms/step - loss: 0.3032 - accuracy: 0.8701 - val_loss: 0.3277 - val_accuracy: 0.8607\n",
      "Epoch 9/10\n",
      "21367/21367 [==============================] - 356s 17ms/step - loss: 0.2930 - accuracy: 0.8779 - val_loss: 0.3266 - val_accuracy: 0.8594\n",
      "Epoch 10/10\n",
      "21367/21367 [==============================] - 361s 17ms/step - loss: 0.2827 - accuracy: 0.8818 - val_loss: 0.3209 - val_accuracy: 0.8665\n"
     ]
    }
   ],
   "source": [
    "batch_size=128 #Using a batch size of 128, during gradient descent\n",
    "num_epochs=10 #Number of iterations/epochs over the training set\n",
    "\n",
    "history=model.fit(x_train,y_train,batch_size=batch_size,epochs=num_epochs,validation_data=(x_test,y_test))"
   ]
  },
  {
   "cell_type": "markdown",
   "metadata": {},
   "source": [
    "The above model yeilds the following results:\n",
    "1. The mean loss on the training set : 0.2827\n",
    "2. The accuracy on the training set : 88.18%"
   ]
  },
  {
   "cell_type": "code",
   "execution_count": 72,
   "metadata": {},
   "outputs": [
    {
     "name": "stdout",
     "output_type": "stream",
     "text": [
      "5342/5342 [==============================] - 18s 3ms/step\n",
      "The loss of the model on the test set : 0.32088650986747497\n",
      "The accuracy of the model on the test set : 86.65294051170349%\n"
     ]
    }
   ],
   "source": [
    "test_performance=model.evaluate(x_test,y_test)\n",
    "print(\"The loss of the model on the test set : {}\".format(test_performance[0]))\n",
    "print(\"The accuracy of the model on the test set : {}%\".format(test_performance[1]*100))"
   ]
  },
  {
   "cell_type": "markdown",
   "metadata": {},
   "source": [
    "### Visualising the Summary of the Network "
   ]
  },
  {
   "cell_type": "code",
   "execution_count": 73,
   "metadata": {},
   "outputs": [
    {
     "name": "stdout",
     "output_type": "stream",
     "text": [
      "Model: \"sequential_2\"\n",
      "_________________________________________________________________\n",
      "Layer (type)                 Output Shape              Param #   \n",
      "=================================================================\n",
      "embedding_1 (Embedding)      (None, 300, 300)          6000000   \n",
      "_________________________________________________________________\n",
      "conv1d_2 (Conv1D)            (None, 298, 32)           28832     \n",
      "_________________________________________________________________\n",
      "max_pooling1d_2 (MaxPooling1 (None, 149, 32)           0         \n",
      "_________________________________________________________________\n",
      "dropout_3 (Dropout)          (None, 149, 32)           0         \n",
      "_________________________________________________________________\n",
      "bidirectional_2 (Bidirection (None, 149, 256)          164864    \n",
      "_________________________________________________________________\n",
      "flatten_1 (Flatten)          (None, 38144)             0         \n",
      "_________________________________________________________________\n",
      "dense_3 (Dense)              (None, 30)                1144350   \n",
      "_________________________________________________________________\n",
      "dropout_4 (Dropout)          (None, 30)                0         \n",
      "_________________________________________________________________\n",
      "dense_4 (Dense)              (None, 2)                 62        \n",
      "=================================================================\n",
      "Total params: 7,338,108\n",
      "Trainable params: 1,338,108\n",
      "Non-trainable params: 6,000,000\n",
      "_________________________________________________________________\n"
     ]
    }
   ],
   "source": [
    "model.summary()"
   ]
  },
  {
   "cell_type": "markdown",
   "metadata": {},
   "source": [
    "### Visualising the Network Architecture of the Model"
   ]
  },
  {
   "cell_type": "code",
   "execution_count": 74,
   "metadata": {},
   "outputs": [
    {
     "data": {
      "image/jpeg": "[encoded data removed]",
      "text/plain": [
       "<IPython.core.display.Image object>"
      ]
     },
     "execution_count": 74,
     "metadata": {},
     "output_type": "execute_result"
    }
   ],
   "source": [
    "from keras.utils import plot_model\n",
    "plot_model(model,to_file=\"lstm.jpg\")"
   ]
  },
  {
   "cell_type": "markdown",
   "metadata": {},
   "source": [
    "### Visualising the Loss of the Model, Throughout the Training Process"
   ]
  },
  {
   "cell_type": "code",
   "execution_count": 94,
   "metadata": {},
   "outputs": [
    {
     "data": {
      "image/png": "[encoded data removed]",
      "text/plain": [
       "<Figure size 432x288 with 1 Axes>"
      ]
     },
     "metadata": {
      "needs_background": "light"
     },
     "output_type": "display_data"
    }
   ],
   "source": [
    "plt.plot(history.history['loss'])\n",
    "plt.plot(history.history['val_loss'])\n",
    "plt.title('Model loss')\n",
    "plt.ylabel('Loss')\n",
    "plt.xlabel('Epoch')\n",
    "plt.legend(['Train', 'Test'], loc='upper right')\n",
    "plt.savefig(\"modelloss_sarcasmdetection.jpg\")"
   ]
  },
  {
   "cell_type": "markdown",
   "metadata": {},
   "source": [
    "### Visualising the Accuracy of the Model, Throughout the Training Process"
   ]
  },
  {
   "cell_type": "code",
   "execution_count": 93,
   "metadata": {},
   "outputs": [
    {
     "data": {
      "image/png": "[encoded data removed]",
      "text/plain": [
       "<Figure size 432x288 with 1 Axes>"
      ]
     },
     "metadata": {
      "needs_background": "light"
     },
     "output_type": "display_data"
    }
   ],
   "source": [
    "plt.plot(history.history['accuracy'])\n",
    "plt.plot(history.history['val_accuracy'])\n",
    "plt.title('Model accuracy')\n",
    "plt.ylabel('Accuracy')\n",
    "plt.xlabel('Epoch')\n",
    "plt.legend(['Train', 'Test'], loc='upper left')\n",
    "plt.savefig(\"modelacc_sarcasmdetection.jpg\")"
   ]
  },
  {
   "cell_type": "markdown",
   "metadata": {},
   "source": [
    "### Checking the Validity of this Model on Some Own Made Up Headlines"
   ]
  },
  {
   "cell_type": "code",
   "execution_count": 89,
   "metadata": {},
   "outputs": [
    {
     "name": "stdout",
     "output_type": "stream",
     "text": [
      "The headline - Of course you meant that : Sarcastic\n",
      "The headline - The facts imply that the suspect used a gun : Not Sarcastic\n",
      "The headline - It looks like Trump is very affectionate : Sarcastic\n",
      "The headline - The economy is on the brink of collapse : Not Sarcastic\n"
     ]
    }
   ],
   "source": [
    "my_headline1=\"Of course you meant that\" #Meant to be sarcastic\n",
    "my_headline2=\"The facts imply that the suspect used a gun\" #Meant to be non-sarcastic\n",
    "my_headline3=\"It looks like Trump is very affectionate\" #Meant to be sarcastic\n",
    "my_headline4=\"The economy is on the brink of collapse\" #Meant to be non-sarcastic\n",
    "\n",
    "my_headline11=tokenizer.texts_to_sequences(my_headline1)\n",
    "my_headline22=tokenizer.texts_to_sequences(my_headline2)\n",
    "my_headline33=tokenizer.texts_to_sequences(my_headline3)\n",
    "my_headline44=tokenizer.texts_to_sequences(my_headline4)\n",
    "\n",
    "my_headline11=pad_sequences(my_headline11,maxlen=max_sentence_len,dtype=\"int32\",value=0)\n",
    "my_headline22=pad_sequences(my_headline22,maxlen=max_sentence_len,dtype=\"int32\",value=0)\n",
    "my_headline33=pad_sequences(my_headline33,maxlen=max_sentence_len,dtype=\"int32\",value=0)\n",
    "my_headline44=pad_sequences(my_headline44,maxlen=max_sentence_len,dtype=\"int32\",value=0)\n",
    "\n",
    "prediction1=model.predict(my_headline11,batch_size=1)[0]\n",
    "prediction2=model.predict(my_headline22,batch_size=1)[0]\n",
    "prediction3=model.predict(my_headline33,batch_size=1)[0]\n",
    "prediction4=model.predict(my_headline44,batch_size=1)[0]\n",
    "\n",
    "if np.argmax(prediction1)==1:\n",
    "    print(\"The headline - \" + my_headline1 + \" : Not Sarcastic\")\n",
    "else:\n",
    "    print(\"The headline - \" + my_headline1 + \" : Sarcastic\")\n",
    "    \n",
    "if np.argmax(prediction2)==1:\n",
    "    print(\"The headline - \" + my_headline2 + \" : Not Sarcastic\")\n",
    "else:\n",
    "    print(\"The headline - \" + my_headline2 + \" : Sarcastic\")\n",
    "\n",
    "if np.argmax(prediction3)==1:\n",
    "    print(\"The headline - \" + my_headline3 + \" : Not Sarcastic\")\n",
    "else:\n",
    "    print(\"The headline - \" + my_headline3 + \" : Sarcastic\")\n",
    "    \n",
    "if np.argmax(prediction4)==1:\n",
    "    print(\"The headline - \" + my_headline4 + \" : Not Sarcastic\")\n",
    "else:\n",
    "    print(\"The headline - \" + my_headline4 + \" : Sarcastic\")"
   ]
  },
  {
   "cell_type": "markdown",
   "metadata": {},
   "source": [
    "The model is thus working decently well enough, with a good enough accuracy, similar on both the training and test set. <br>\n",
    "The model is also decently able to identify sarcastic, and non-sarcastic headlines."
   ]
  },
  {
   "cell_type": "markdown",
   "metadata": {},
   "source": [
    "## OBSERVATIONS:\n",
    "\n",
    "#####    - Importing Libraries\n",
    "#####    - Preventing Any Unnecessary Verbose From Popping Up\n",
    "#####    - Loading Dataset From the Json File Stored & Visualising\n",
    "#####    - Removing the Link and putting the Organisation in its Place\n",
    "#####    - Now, Before any Oher Preprocessing is Done, Let it be Verified if Whether or Not the Data is Balanced\n",
    "#####    - Checking the Nature of Data\n",
    "#####    - Understanding the Data, To See if it is Skewed or Not\n",
    "#####    - Above Statements can be Visualised\n",
    "#####    - To Ignore the Effect of Organization on Whether a Headline is Sarcastic\n",
    "#####    - Dropping the \"Organization\" Column\n",
    "#####    - Getting the Pre Trained GloVe Embeddings into the Embedding Matrix From the Link Used in this Cell\n",
    "#####    - Creating the Embedding Layer Further with the Help of Keras\n",
    "#####    - Building the Model\n",
    "#####    - Splittting the Data into Training and Testing Sets Before Fitting the Model\n",
    "#####    - Visualising the Summary of the Network\n",
    "#####    - Visualising the Network Architecture of the Model\n",
    "#####    - Visualising the Loss of the Model, Throughout the Training Process\n",
    "#####    - Visualising the Accuracy of the Model, Throughout the Training Process\n",
    "#####   - Checking the Validity of this Model on Some Own Made Up Headlines"
   ]
  }
 ],
 "metadata": {
  "kernelspec": {
   "display_name": "Python 3",
   "language": "python",
   "name": "python3"
  },
  "language_info": {
   "codemirror_mode": {
    "name": "ipython",
    "version": 3
   },
   "file_extension": ".py",
   "mimetype": "text/x-python",
   "name": "python",
   "nbconvert_exporter": "python",
   "pygments_lexer": "ipython3",
   "version": "3.7.3"
  }
 },
 "nbformat": 4,
 "nbformat_minor": 4
}
